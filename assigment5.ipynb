{
 "cells": [
  {
   "cell_type": "markdown",
   "id": "eff4d524-3310-4996-8d1a-fa188d81370e",
   "metadata": {},
   "source": [
    "Question Num.1"
   ]
  },
  {
   "cell_type": "markdown",
   "id": "85aef4e1-e5b0-4441-b026-0340de60e3fe",
   "metadata": {},
   "source": [
    "Python programming language was developed by 'Guido van Rossum' in the late 1980s. "
   ]
  },
  {
   "cell_type": "markdown",
   "id": "6c184158-7d81-49ee-a916-afa090cf2c18",
   "metadata": {},
   "source": [
    "Question Num.2"
   ]
  },
  {
   "cell_type": "markdown",
   "id": "6efbe036-f92d-414a-aa7b-40352674b8a1",
   "metadata": {},
   "source": [
    "Python supports multiple programming paradigms including:\n",
    "\n",
    "1- Procedural Programming\n",
    "2- Object-oriented Programming\n",
    "3- Functional Programming\n",
    "4- Scripting\n",
    "5- Web Development\n",
    "6- Data Science"
   ]
  },
  {
   "cell_type": "markdown",
   "id": "5d08b97b-a0e8-4314-a3fd-688abe2cd91a",
   "metadata": {},
   "source": [
    "Question Num.3"
   ]
  },
  {
   "cell_type": "markdown",
   "id": "2df4dc80-a8bb-4a61-a0d4-41c466e83a7a",
   "metadata": {},
   "source": [
    "Yes, Python is a case-sensitive programming language.it means that it considers uppercase and lowercase letters diffrently.\n",
    "For example the variable names 'count' and 'Count' would be considered as two different variables in python."
   ]
  },
  {
   "cell_type": "markdown",
   "id": "c8f6fff3-c448-442f-9f8d-878264d3f87e",
   "metadata": {},
   "source": [
    "Question Num.4"
   ]
  },
  {
   "cell_type": "markdown",
   "id": "938df633-07cc-440a-92fd-45abd87d4a11",
   "metadata": {},
   "source": [
    "The extension for python files is '.py' . When you save a python file, you should give it name that ends with the .py extension.\n",
    "since python is a multipurpose programming language so it have more then one extensions like-- .py , .pyi , .pyc , .pyd , .pyz"
   ]
  },
  {
   "cell_type": "markdown",
   "id": "28973f94-ac7b-4036-93bb-f9b3fbcf3690",
   "metadata": {},
   "source": [
    "Question Num.5"
   ]
  },
  {
   "cell_type": "markdown",
   "id": "37507002-bd71-4883-a4bb-3d0fca2d78f6",
   "metadata": {},
   "source": [
    "Python is both compiled as well as interpreted language which means when we run a python code , it is first compiled and then interpreted line by line "
   ]
  },
  {
   "cell_type": "markdown",
   "id": "8d1a4e80-b8c1-457b-a913-1a69f1a5227a",
   "metadata": {},
   "source": [
    "Question Num.6"
   ]
  },
  {
   "cell_type": "markdown",
   "id": "2a351655-c302-46f8-82e6-ad05a371a36c",
   "metadata": {},
   "source": [
    "These are the blocks which are used in python programming language--\n",
    "1- a module\n",
    "2- a function body\n",
    "3- a class definition\n"
   ]
  },
  {
   "cell_type": "markdown",
   "id": "75fede42-0748-4b60-b4c6-903f05a13755",
   "metadata": {},
   "source": [
    "Question Num-7"
   ]
  },
  {
   "cell_type": "markdown",
   "id": "6d84dcd7-7179-4eb0-80ca-30a6ad0df1ce",
   "metadata": {},
   "source": [
    "In python, we use the hash symobol # to write a single- line comment."
   ]
  },
  {
   "cell_type": "markdown",
   "id": "554dc709-6f97-4421-9d9d-b8bf7af7ea7f",
   "metadata": {},
   "source": [
    "Question Num-8"
   ]
  },
  {
   "cell_type": "markdown",
   "id": "0f89cd92-845d-4c82-b770-5c217e4af24f",
   "metadata": {},
   "source": [
    "The function 'sys.version' can help us to find the version of python that we are currently working on."
   ]
  },
  {
   "cell_type": "markdown",
   "id": "b4853edc-d13d-4f25-b955-6464aa4ad72f",
   "metadata": {},
   "source": [
    "Question Num-9"
   ]
  },
  {
   "cell_type": "markdown",
   "id": "6367e3bc-1ad1-4e87-a8e0-3b314e7c3f43",
   "metadata": {},
   "source": [
    "Python supports the creation of anonymous functions (i.e. functions that are not bound to a name) at runtime, using a construct called lambda."
   ]
  },
  {
   "cell_type": "markdown",
   "id": "1ce4e9d5-d8bb-42be-a3bf-a7aa1afc74bf",
   "metadata": {},
   "source": [
    "Question Num-10"
   ]
  },
  {
   "cell_type": "markdown",
   "id": "7d31d022-532f-4afc-9610-304654cccc85",
   "metadata": {},
   "source": [
    "PIP stand for -- pip install package "
   ]
  },
  {
   "cell_type": "markdown",
   "id": "83691931-084d-4e67-8d3c-00c3a9c78296",
   "metadata": {},
   "source": [
    "Question NUm-11"
   ]
  },
  {
   "cell_type": "markdown",
   "id": "7b4f3727-c892-4120-92d2-d12029417680",
   "metadata": {},
   "source": [
    "These are some built-in function in python--\n",
    "1- print()\n",
    "2- type()\n",
    "3- input()\n",
    "4- abs()\n",
    "5- pow()\n",
    "6- max()\n",
    "7- len()\n",
    "8- map()"
   ]
  },
  {
   "cell_type": "markdown",
   "id": "54db2bcc-648a-4272-bb5e-0bc16dcea389",
   "metadata": {},
   "source": [
    "Question Num-12"
   ]
  },
  {
   "cell_type": "markdown",
   "id": "71a71476-e934-4464-bf9f-910b1f01398e",
   "metadata": {},
   "source": [
    "In Python language an identifier can have a maximum length of 79 character"
   ]
  },
  {
   "cell_type": "markdown",
   "id": "978887fa-8f9a-45b8-a091-d365a8b84668",
   "metadata": {},
   "source": [
    "Question Num-13"
   ]
  },
  {
   "cell_type": "markdown",
   "id": "21d039f5-3685-459c-a5b3-937e7b13a498",
   "metadata": {},
   "source": [
    "These are the benifits of using python--\n",
    "1- Simple to use and understand.\n",
    "2- Free and Open-source.\n",
    "3- Extensive library\n",
    "4- dynamically typed\n",
    "5- Portability\n",
    "6- High-level language"
   ]
  },
  {
   "cell_type": "markdown",
   "id": "5672dc56-60ed-4f8d-a5ab-a86ea83c1db1",
   "metadata": {},
   "source": [
    "Question Num-14"
   ]
  },
  {
   "cell_type": "markdown",
   "id": "9365ff10-97c0-4192-be54-a22e4e0c8f73",
   "metadata": {},
   "source": [
    "The memory is a heap that stores the program's objects and other data structures. The Python memory manager uses API methods to handle the allocation and deallocation of this heap space."
   ]
  },
  {
   "cell_type": "markdown",
   "id": "bf71aae6-b472-4ce4-8b20-85e664453bb6",
   "metadata": {},
   "source": [
    "Question Num-15"
   ]
  },
  {
   "cell_type": "markdown",
   "id": "472f2686-61dd-4c6a-a49c-2744714d9a3f",
   "metadata": {},
   "source": [
    "The complete path of python.exe can be added by:\n",
    "\n",
    "1- Right-clicking This PC and going to Properties.\n",
    "\n",
    "2- Clicking on the Advanced system settings in the menu on the left.\n",
    "\n",
    "3- Clicking on the Environment Variables button o​n the bottom right.\n",
    "\n",
    "4- In the System variables section, selecting the Path variable and clicking on Edit. The next screen will show all the directories that are currently a part of the PATH variable.\n",
    "\n",
    "5- Clicking on New and entering Python’s install directory."
   ]
  },
  {
   "cell_type": "markdown",
   "id": "eb4f4e17-1019-4e40-bdd4-0296c54db43a",
   "metadata": {},
   "source": [
    "Question Num-16"
   ]
  },
  {
   "cell_type": "markdown",
   "id": "b7171b80-aa83-422d-b347-d533e1d1774d",
   "metadata": {},
   "source": [
    "Yes, Indentation is mandatory in python to define the blocks of statements."
   ]
  },
  {
   "cell_type": "code",
   "execution_count": null,
   "id": "52d480db-eeb3-4a01-bec1-b369e1e32078",
   "metadata": {},
   "outputs": [],
   "source": []
  }
 ],
 "metadata": {
  "kernelspec": {
   "display_name": "Python 3 (ipykernel)",
   "language": "python",
   "name": "python3"
  },
  "language_info": {
   "codemirror_mode": {
    "name": "ipython",
    "version": 3
   },
   "file_extension": ".py",
   "mimetype": "text/x-python",
   "name": "python",
   "nbconvert_exporter": "python",
   "pygments_lexer": "ipython3",
   "version": "3.10.8"
  }
 },
 "nbformat": 4,
 "nbformat_minor": 5
}
